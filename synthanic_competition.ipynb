{
 "cells": [
  {
   "cell_type": "code",
   "execution_count": 1,
   "id": "5f32fa5a",
   "metadata": {},
   "outputs": [],
   "source": [
    "import warnings\n",
    "warnings.filterwarnings('ignore')\n",
    "import pandas as pd\n",
    "import numpy as np\n",
    "import matplotlib.pyplot as plt\n",
    "import seaborn as sns"
   ]
  },
  {
   "cell_type": "markdown",
   "id": "e4c1cfb2",
   "metadata": {},
   "source": [
    "# Context\n",
    "This is the solution for the [Synthanic competition](https://www.kaggle.com/c/tabular-playground-series-apr-2021) on Kaggle.\n",
    "\n",
    "The goal is to perform EDA and create a model solving binary classification task using [synthetic dataset](https://www.kaggle.com/c/tabular-playground-series-apr-2021/data) which is based on a real Titanic dataset. The statistical properties of this dataset are similar to the original Titanic dataset."
   ]
  },
  {
   "cell_type": "markdown",
   "id": "89643d67",
   "metadata": {},
   "source": [
    "#### Data Dictionary\n",
    "The DataFrame contains 100 000 entries with 11 parameters.\n",
    "\n",
    "Variables description\n",
    "- Survived: 1 - survived, 0 - died\n",
    "- Pclass: ticket class\n",
    "- SibSp: number of siblings/spouses aboard the Titanic\n",
    "- Parch: number of parents/children aboard the Titanic\n",
    "- Ticket: ticket number\n",
    "- Fare: passenger fare\n",
    "- Cabin: cabin number\n",
    "- Embarked: port of embarkation, C = Cherbourg, Q = Queenstown, S = Southampton\n",
    "\n",
    "#### Variable Notes\n",
    "pclass: A proxy for socio-economic status (SES)\n",
    "- 1st = Upper\n",
    "- 2nd = Middle\n",
    "- 3rd = Lower\n",
    "\n",
    "age: Age is fractional if less than 1. If the age is estimated, is it in the form of xx.5\n",
    "\n",
    "sibsp: The dataset defines family relations in this way...\n",
    "- Sibling = brother, sister, stepbrother, stepsister\n",
    "- Spouse = husband, wife (mistresses and fiancés were ignored)\n",
    "\n",
    "parch: The dataset defines family relations in this way...\n",
    "- Parent = mother, father\n",
    "- Child = daughter, son, stepdaughter, stepson\n",
    "- Some children travelled only with a nanny, therefore parch=0 for them."
   ]
  },
  {
   "cell_type": "code",
   "execution_count": 2,
   "id": "d7f860d6",
   "metadata": {},
   "outputs": [
    {
     "data": {
      "text/html": [
       "<div>\n",
       "<style scoped>\n",
       "    .dataframe tbody tr th:only-of-type {\n",
       "        vertical-align: middle;\n",
       "    }\n",
       "\n",
       "    .dataframe tbody tr th {\n",
       "        vertical-align: top;\n",
       "    }\n",
       "\n",
       "    .dataframe thead th {\n",
       "        text-align: right;\n",
       "    }\n",
       "</style>\n",
       "<table border=\"1\" class=\"dataframe\">\n",
       "  <thead>\n",
       "    <tr style=\"text-align: right;\">\n",
       "      <th></th>\n",
       "      <th>Survived</th>\n",
       "      <th>Pclass</th>\n",
       "      <th>Name</th>\n",
       "      <th>Sex</th>\n",
       "      <th>Age</th>\n",
       "      <th>SibSp</th>\n",
       "      <th>Parch</th>\n",
       "      <th>Ticket</th>\n",
       "      <th>Fare</th>\n",
       "      <th>Cabin</th>\n",
       "      <th>Embarked</th>\n",
       "    </tr>\n",
       "    <tr>\n",
       "      <th>PassengerId</th>\n",
       "      <th></th>\n",
       "      <th></th>\n",
       "      <th></th>\n",
       "      <th></th>\n",
       "      <th></th>\n",
       "      <th></th>\n",
       "      <th></th>\n",
       "      <th></th>\n",
       "      <th></th>\n",
       "      <th></th>\n",
       "      <th></th>\n",
       "    </tr>\n",
       "  </thead>\n",
       "  <tbody>\n",
       "    <tr>\n",
       "      <th>67493</th>\n",
       "      <td>1</td>\n",
       "      <td>1</td>\n",
       "      <td>Larsen, Mona</td>\n",
       "      <td>female</td>\n",
       "      <td>30.0</td>\n",
       "      <td>1</td>\n",
       "      <td>0</td>\n",
       "      <td>72914</td>\n",
       "      <td>78.86</td>\n",
       "      <td>D14301</td>\n",
       "      <td>C</td>\n",
       "    </tr>\n",
       "    <tr>\n",
       "      <th>38645</th>\n",
       "      <td>0</td>\n",
       "      <td>3</td>\n",
       "      <td>Hudnell, Carlos</td>\n",
       "      <td>male</td>\n",
       "      <td>40.0</td>\n",
       "      <td>0</td>\n",
       "      <td>2</td>\n",
       "      <td>43930</td>\n",
       "      <td>15.81</td>\n",
       "      <td>NaN</td>\n",
       "      <td>S</td>\n",
       "    </tr>\n",
       "    <tr>\n",
       "      <th>97961</th>\n",
       "      <td>0</td>\n",
       "      <td>2</td>\n",
       "      <td>Amos, Ronald</td>\n",
       "      <td>male</td>\n",
       "      <td>39.0</td>\n",
       "      <td>0</td>\n",
       "      <td>0</td>\n",
       "      <td>14250</td>\n",
       "      <td>21.77</td>\n",
       "      <td>NaN</td>\n",
       "      <td>S</td>\n",
       "    </tr>\n",
       "    <tr>\n",
       "      <th>39854</th>\n",
       "      <td>0</td>\n",
       "      <td>2</td>\n",
       "      <td>Quiroga, William</td>\n",
       "      <td>male</td>\n",
       "      <td>41.0</td>\n",
       "      <td>0</td>\n",
       "      <td>0</td>\n",
       "      <td>476526</td>\n",
       "      <td>45.17</td>\n",
       "      <td>NaN</td>\n",
       "      <td>S</td>\n",
       "    </tr>\n",
       "    <tr>\n",
       "      <th>20380</th>\n",
       "      <td>0</td>\n",
       "      <td>2</td>\n",
       "      <td>Hurt, Matthew</td>\n",
       "      <td>male</td>\n",
       "      <td>30.0</td>\n",
       "      <td>0</td>\n",
       "      <td>0</td>\n",
       "      <td>STON/O 3658083</td>\n",
       "      <td>9.52</td>\n",
       "      <td>NaN</td>\n",
       "      <td>S</td>\n",
       "    </tr>\n",
       "    <tr>\n",
       "      <th>7512</th>\n",
       "      <td>0</td>\n",
       "      <td>3</td>\n",
       "      <td>Flint, Sheri</td>\n",
       "      <td>female</td>\n",
       "      <td>47.0</td>\n",
       "      <td>0</td>\n",
       "      <td>0</td>\n",
       "      <td>430747</td>\n",
       "      <td>5.81</td>\n",
       "      <td>NaN</td>\n",
       "      <td>C</td>\n",
       "    </tr>\n",
       "    <tr>\n",
       "      <th>14927</th>\n",
       "      <td>0</td>\n",
       "      <td>3</td>\n",
       "      <td>Glenn, Jeffrey</td>\n",
       "      <td>male</td>\n",
       "      <td>61.0</td>\n",
       "      <td>0</td>\n",
       "      <td>0</td>\n",
       "      <td>SOTON/O.Q.</td>\n",
       "      <td>9.60</td>\n",
       "      <td>NaN</td>\n",
       "      <td>S</td>\n",
       "    </tr>\n",
       "    <tr>\n",
       "      <th>40159</th>\n",
       "      <td>1</td>\n",
       "      <td>2</td>\n",
       "      <td>Ishak, Wilbur</td>\n",
       "      <td>male</td>\n",
       "      <td>56.0</td>\n",
       "      <td>0</td>\n",
       "      <td>0</td>\n",
       "      <td>314745</td>\n",
       "      <td>7.60</td>\n",
       "      <td>NaN</td>\n",
       "      <td>S</td>\n",
       "    </tr>\n",
       "    <tr>\n",
       "      <th>92374</th>\n",
       "      <td>1</td>\n",
       "      <td>1</td>\n",
       "      <td>Fletcher, Anna</td>\n",
       "      <td>female</td>\n",
       "      <td>60.0</td>\n",
       "      <td>2</td>\n",
       "      <td>2</td>\n",
       "      <td>332591</td>\n",
       "      <td>73.30</td>\n",
       "      <td>B13266</td>\n",
       "      <td>C</td>\n",
       "    </tr>\n",
       "    <tr>\n",
       "      <th>46380</th>\n",
       "      <td>0</td>\n",
       "      <td>3</td>\n",
       "      <td>Gardella, James</td>\n",
       "      <td>male</td>\n",
       "      <td>37.0</td>\n",
       "      <td>0</td>\n",
       "      <td>0</td>\n",
       "      <td>W./C. 22173</td>\n",
       "      <td>7.58</td>\n",
       "      <td>NaN</td>\n",
       "      <td>S</td>\n",
       "    </tr>\n",
       "  </tbody>\n",
       "</table>\n",
       "</div>"
      ],
      "text/plain": [
       "             Survived  Pclass              Name     Sex   Age  SibSp  Parch  \\\n",
       "PassengerId                                                                   \n",
       "67493               1       1      Larsen, Mona  female  30.0      1      0   \n",
       "38645               0       3   Hudnell, Carlos    male  40.0      0      2   \n",
       "97961               0       2      Amos, Ronald    male  39.0      0      0   \n",
       "39854               0       2  Quiroga, William    male  41.0      0      0   \n",
       "20380               0       2     Hurt, Matthew    male  30.0      0      0   \n",
       "7512                0       3      Flint, Sheri  female  47.0      0      0   \n",
       "14927               0       3    Glenn, Jeffrey    male  61.0      0      0   \n",
       "40159               1       2     Ishak, Wilbur    male  56.0      0      0   \n",
       "92374               1       1    Fletcher, Anna  female  60.0      2      2   \n",
       "46380               0       3   Gardella, James    male  37.0      0      0   \n",
       "\n",
       "                     Ticket   Fare   Cabin Embarked  \n",
       "PassengerId                                          \n",
       "67493                 72914  78.86  D14301        C  \n",
       "38645                 43930  15.81     NaN        S  \n",
       "97961                 14250  21.77     NaN        S  \n",
       "39854                476526  45.17     NaN        S  \n",
       "20380        STON/O 3658083   9.52     NaN        S  \n",
       "7512                 430747   5.81     NaN        C  \n",
       "14927           SOTON/O.Q.    9.60     NaN        S  \n",
       "40159                314745   7.60     NaN        S  \n",
       "92374                332591  73.30  B13266        C  \n",
       "46380           W./C. 22173   7.58     NaN        S  "
      ]
     },
     "execution_count": 2,
     "metadata": {},
     "output_type": "execute_result"
    }
   ],
   "source": [
    "data = pd.read_csv('train.csv', index_col='PassengerId')\n",
    "data.sample(10)"
   ]
  },
  {
   "cell_type": "markdown",
   "id": "f1729e7a",
   "metadata": {},
   "source": [
    "# Data quality assessment\n"
   ]
  },
  {
   "cell_type": "markdown",
   "id": "ea063224",
   "metadata": {},
   "source": [
    "The usefulness of data and its quality are closely related. The rule \"garbage in => garbage out\" always works. Let's examine quality of our dataset.\n",
    "\n",
    "First, let's discover whether our DataFrame has missed values."
   ]
  },
  {
   "cell_type": "code",
   "execution_count": 3,
   "id": "9d16bfd6",
   "metadata": {},
   "outputs": [
    {
     "name": "stdout",
     "output_type": "stream",
     "text": [
      "Raws 100000\n",
      "Columns 11\n"
     ]
    }
   ],
   "source": [
    "print(f'Raws {data.shape[0]}')\n",
    "print(f'Columns {data.shape[1]}')"
   ]
  },
  {
   "cell_type": "code",
   "execution_count": 4,
   "id": "e87001b8",
   "metadata": {},
   "outputs": [
    {
     "name": "stdout",
     "output_type": "stream",
     "text": [
      "<class 'pandas.core.frame.DataFrame'>\n",
      "Int64Index: 100000 entries, 0 to 99999\n",
      "Data columns (total 11 columns):\n",
      " #   Column    Non-Null Count   Dtype  \n",
      "---  ------    --------------   -----  \n",
      " 0   Survived  100000 non-null  int64  \n",
      " 1   Pclass    100000 non-null  int64  \n",
      " 2   Name      100000 non-null  object \n",
      " 3   Sex       100000 non-null  object \n",
      " 4   Age       96708 non-null   float64\n",
      " 5   SibSp     100000 non-null  int64  \n",
      " 6   Parch     100000 non-null  int64  \n",
      " 7   Ticket    95377 non-null   object \n",
      " 8   Fare      99866 non-null   float64\n",
      " 9   Cabin     32134 non-null   object \n",
      " 10  Embarked  99750 non-null   object \n",
      "dtypes: float64(2), int64(4), object(5)\n",
      "memory usage: 9.2+ MB\n"
     ]
    }
   ],
   "source": [
    "data.info()"
   ]
  },
  {
   "cell_type": "markdown",
   "id": "3d19eeb8",
   "metadata": {},
   "source": [
    "There are following groups of columns:\n",
    "\n",
    "1. **categorical:** Name, Ticket, Cabin, Pclass, Survived, Sex, Embarked\n",
    "2. **numeric:** PassengerId, Age, Fare, SibSp, Parch"
   ]
  },
  {
   "cell_type": "code",
   "execution_count": 5,
   "id": "d9bf8a60",
   "metadata": {},
   "outputs": [
    {
     "data": {
      "text/plain": [
       "0"
      ]
     },
     "execution_count": 5,
     "metadata": {},
     "output_type": "execute_result"
    }
   ],
   "source": [
    "data.duplicated().sum()"
   ]
  },
  {
   "cell_type": "markdown",
   "id": "28c3c20a",
   "metadata": {},
   "source": [
    "Duplicates not found."
   ]
  },
  {
   "cell_type": "markdown",
   "id": "0d125d01",
   "metadata": {},
   "source": [
    "### Handling missing values"
   ]
  },
  {
   "cell_type": "code",
   "execution_count": 6,
   "id": "bf27e22a",
   "metadata": {},
   "outputs": [
    {
     "data": {
      "text/plain": [
       "Survived    0.00000\n",
       "Pclass      0.00000\n",
       "Name        0.00000\n",
       "Sex         0.00000\n",
       "Age         0.03292\n",
       "SibSp       0.00000\n",
       "Parch       0.00000\n",
       "Ticket      0.04623\n",
       "Fare        0.00134\n",
       "Cabin       0.67866\n",
       "Embarked    0.00250\n",
       "dtype: float64"
      ]
     },
     "execution_count": 6,
     "metadata": {},
     "output_type": "execute_result"
    }
   ],
   "source": [
    "data.isna().sum() / data.shape[0]"
   ]
  },
  {
   "cell_type": "code",
   "execution_count": 7,
   "id": "b2314506",
   "metadata": {},
   "outputs": [
    {
     "data": {
      "image/png": "[encoded data removed]",
      "text/plain": [
       "<Figure size 1080x576 with 1 Axes>"
      ]
     },
     "metadata": {
      "needs_background": "light"
     },
     "output_type": "display_data"
    }
   ],
   "source": [
    "plt.figure(figsize=(15,8))\n",
    "plt.title(\"NaN values share\")\n",
    "(data.isna().sum() / data.shape[0]).plot(kind='bar', stacked=True)\n",
    "plt.show()"
   ]
  },
  {
   "cell_type": "markdown",
   "id": "2de635e8",
   "metadata": {},
   "source": [
    "Most of Cabin values are lost. Let's introduce new category *'Unknown'* for missing values in the Cabin column. We will do the same for the Ticket column."
   ]
  },
  {
   "cell_type": "code",
   "execution_count": 8,
   "id": "22a73939",
   "metadata": {},
   "outputs": [],
   "source": [
    "data['Ticket'].fillna('Unknown', inplace=True)\n",
    "data['Cabin'].fillna('Unknown', inplace=True)"
   ]
  },
  {
   "cell_type": "code",
   "execution_count": 9,
   "id": "93ac0525",
   "metadata": {},
   "outputs": [
    {
     "data": {
      "image/png": "[encoded data removed]",
      "text/plain": [
       "<Figure size 1080x360 with 2 Axes>"
      ]
     },
     "metadata": {
      "needs_background": "light"
     },
     "output_type": "display_data"
    }
   ],
   "source": [
    "plt.figure(figsize=(15, 5))\n",
    "mask = np.triu(np.ones_like(data.corr()))\n",
    "sns.heatmap(data.corr(), cmap=\"RdBu_r\", annot=True, center=0, mask=mask)\n",
    "plt.title('Correlation map')\n",
    "plt.show()"
   ]
  },
  {
   "cell_type": "markdown",
   "id": "d55f2769",
   "metadata": {},
   "source": [
    "From the graph above we can see, that Pclass and Fare have negative correlation, thus the higher ticket class number the lower its fare. Let's fill NaN values for each ticket class with it's meadian value. "
   ]
  },
  {
   "cell_type": "code",
   "execution_count": 10,
   "id": "32739cfb",
   "metadata": {},
   "outputs": [],
   "source": [
    "medians = data.groupby('Pclass')['Fare'].median()\n",
    "data['Fare'].fillna(data['Pclass'].map(medians), inplace=True)"
   ]
  },
  {
   "cell_type": "code",
   "execution_count": 11,
   "id": "23c86a70",
   "metadata": {},
   "outputs": [
    {
     "data": {
      "image/png": "[encoded data removed]",
      "text/plain": [
       "<Figure size 1152x432 with 1 Axes>"
      ]
     },
     "metadata": {
      "needs_background": "light"
     },
     "output_type": "display_data"
    }
   ],
   "source": [
    "plt.figure(figsize=(16,6))\n",
    "sns.boxplot(x=data.Pclass, y=data.Age)\n",
    "plt.title('Pcalss vs Age')\n",
    "plt.show()"
   ]
  },
  {
   "cell_type": "markdown",
   "id": "879c7edf",
   "metadata": {},
   "source": [
    "Also we can notice that people with higher ticket class are tended to be older, this may mean that older people can afford more expensive tickets. Let's replace Age column NaNs with medians of each class."
   ]
  },
  {
   "cell_type": "code",
   "execution_count": 12,
   "id": "e736fcce",
   "metadata": {},
   "outputs": [],
   "source": [
    "medians = data.groupby('Pclass')['Age'].median()\n",
    "data['Age'].fillna(data['Pclass'].map(medians), inplace=True)"
   ]
  },
  {
   "cell_type": "code",
   "execution_count": null,
   "id": "8a78a995",
   "metadata": {},
   "outputs": [],
   "source": []
  },
  {
   "cell_type": "code",
   "execution_count": null,
   "id": "e57ba702",
   "metadata": {},
   "outputs": [],
   "source": [
    "tidy = df.drop(['Cabin', 'Ticket', 'Name'], axis=1)\n",
    "tidy.isna().sum()"
   ]
  },
  {
   "cell_type": "markdown",
   "id": "9eecaad0",
   "metadata": {},
   "source": [
    "Embarked column contains 250 NaN values, let's replace them with mode."
   ]
  },
  {
   "cell_type": "code",
   "execution_count": null,
   "id": "7b12a8cd",
   "metadata": {},
   "outputs": [],
   "source": [
    "tidy.Embarked = tidy.Embarked.fillna(tidy.Embarked.mode()[0])\n",
    "tidy.isna().sum()"
   ]
  },
  {
   "cell_type": "markdown",
   "id": "0c2078df",
   "metadata": {},
   "source": []
  },
  {
   "cell_type": "markdown",
   "id": "4bd871b2",
   "metadata": {},
   "source": []
  },
  {
   "cell_type": "code",
   "execution_count": null,
   "id": "753d7ae5",
   "metadata": {},
   "outputs": [],
   "source": [
    "zz"
   ]
  },
  {
   "cell_type": "markdown",
   "id": "f7657e78",
   "metadata": {},
   "source": []
  },
  {
   "cell_type": "code",
   "execution_count": null,
   "id": "061feac9",
   "metadata": {},
   "outputs": [],
   "source": []
  },
  {
   "cell_type": "markdown",
   "id": "2770cfa4",
   "metadata": {},
   "source": []
  },
  {
   "cell_type": "code",
   "execution_count": null,
   "id": "aa2deb7e",
   "metadata": {},
   "outputs": [],
   "source": []
  },
  {
   "cell_type": "markdown",
   "id": "583ad5eb",
   "metadata": {},
   "source": [
    "Now, when we finished with missing data, let's do some sanity checks of our features.\n",
    "\n",
    "Let's assume that children under 10 years cannot have a transatlantic journey without siblings or parents. We replace their age, just as we did with NaN values, with the median of each ticket class."
   ]
  },
  {
   "cell_type": "code",
   "execution_count": null,
   "id": "79ef7608",
   "metadata": {},
   "outputs": [],
   "source": [
    "tidy.loc[tidy[(tidy.Age < 10) & (tidy.Parch == 0) & (tidy.SibSp == 0)].index, 'Age'] = np.nan\n",
    "tidy['Age'] = tidy['Age'].fillna(tidy['Pclass'].map(medians))"
   ]
  },
  {
   "cell_type": "markdown",
   "id": "2b4a92e8",
   "metadata": {},
   "source": [
    "Boxplot below of initial distribution of fares for every ticket class shows a large number of outliers. We can remove by implementing the IQR method."
   ]
  },
  {
   "cell_type": "code",
   "execution_count": null,
   "id": "14e3ec02",
   "metadata": {},
   "outputs": [],
   "source": [
    "plt.figure(figsize=(15,5))\n",
    "sns.boxplot(x=tidy.Pclass, y=tidy.Fare)\n",
    "plt.show()"
   ]
  },
  {
   "cell_type": "code",
   "execution_count": null,
   "id": "a56fdebf",
   "metadata": {},
   "outputs": [],
   "source": [
    "first_class, second_class, third_class = tidy[tidy.Pclass == 1], tidy[tidy.Pclass == 2], tidy[tidy.Pclass == 3]\n",
    "Q1, Q3 = first_class.Fare.quantile(0.25), first_class.Fare.quantile(0.75)\n",
    "IQR = Q3 - Q1\n",
    "tidy = tidy.drop(first_class.Fare[((first_class.Fare < (Q1-1.5*IQR)) | (first_class.Fare>(Q3+1.5*IQR)))].index)\n",
    "\n",
    "Q1, Q3 = second_class.Fare.quantile(0.25), second_class.Fare.quantile(0.75)\n",
    "IQR = Q3 - Q1\n",
    "tidy = tidy.drop(second_class.Fare[((second_class.Fare < (Q1-1.5*IQR)) | (second_class.Fare>(Q3+1.5*IQR)))].index)\n",
    "\n",
    "Q1, Q3 = third_class.Fare.quantile(0.25), third_class.Fare.quantile(0.75)\n",
    "IQR = Q3 - Q1\n",
    "tidy = tidy.drop(third_class.Fare[((third_class.Fare < (Q1-1.5*IQR)) | (third_class.Fare>(Q3+1.5*IQR)))].index)"
   ]
  },
  {
   "cell_type": "code",
   "execution_count": null,
   "id": "5f234220",
   "metadata": {},
   "outputs": [],
   "source": [
    "plt.figure(figsize=(15,5))\n",
    "sns.boxplot(x=tidy.Pclass, y=tidy.Fare)\n",
    "plt.show()"
   ]
  },
  {
   "cell_type": "markdown",
   "id": "d4bc596d",
   "metadata": {},
   "source": [
    "After we got rid of the outliers, we can start the analysis."
   ]
  },
  {
   "cell_type": "markdown",
   "id": "5fbb71d4",
   "metadata": {},
   "source": [
    "# Data exploration"
   ]
  },
  {
   "cell_type": "markdown",
   "id": "b8f0cbc2",
   "metadata": {},
   "source": [
    "First, let's plot some graphs to get a general idea of the distribution of the data."
   ]
  },
  {
   "cell_type": "code",
   "execution_count": null,
   "id": "2cbd5f52",
   "metadata": {},
   "outputs": [],
   "source": [
    "tidy.head()"
   ]
  },
  {
   "cell_type": "code",
   "execution_count": null,
   "id": "03ec684e",
   "metadata": {},
   "outputs": [],
   "source": [
    "plt.figure(figsize=(7,7))\n",
    "plt.pie(tidy.Survived.value_counts(), autopct = '%.2f%%')\n",
    "plt.title('Survived people distribution')\n",
    "plt.legend(title=\"Survived\", labels=['No', 'Yes'])\n",
    "plt.show()"
   ]
  },
  {
   "cell_type": "code",
   "execution_count": null,
   "id": "8a604cc0",
   "metadata": {},
   "outputs": [],
   "source": [
    "plt.figure(figsize=(7,7))\n",
    "plt.pie(tidy.Pclass.value_counts().sort_index(), autopct = '%.2f%%')\n",
    "plt.title('Ticket class distribution')\n",
    "plt.legend(title=\"Ticket class\", labels=['1', '2', '3'])\n",
    "plt.show()"
   ]
  },
  {
   "cell_type": "code",
   "execution_count": null,
   "id": "fce15123",
   "metadata": {},
   "outputs": [],
   "source": [
    "plt.figure(figsize=(7,7))\n",
    "plt.pie(tidy.Sex.value_counts().sort_index(), autopct = '%.2f%%')\n",
    "plt.title('Sex distribution')\n",
    "plt.legend(title=\"Sex\", labels=['Female', 'Male'])\n",
    "plt.show()"
   ]
  },
  {
   "cell_type": "code",
   "execution_count": null,
   "id": "5bd28778",
   "metadata": {},
   "outputs": [],
   "source": [
    "plt.figure(figsize=(15,5))\n",
    "sns.distplot(tidy.Age, kde=False, bins=20, norm_hist=True)\n",
    "plt.title('Age distribution')\n",
    "plt.show()"
   ]
  },
  {
   "cell_type": "markdown",
   "id": "f7f42022",
   "metadata": {},
   "source": [
    "Let's add one feature that will store the total number of all relatives on board and plot its destribution. For entries with more than 5 relatives, we assign its value just to 10"
   ]
  },
  {
   "cell_type": "code",
   "execution_count": null,
   "id": "97099338",
   "metadata": {},
   "outputs": [],
   "source": [
    "tidy['Relatives'] = tidy['SibSp'] + tidy['Parch']\n",
    "tidy.loc[tidy[tidy.Relatives >= 5].index, 'Relatives'] = 5\n",
    "plt.figure(figsize=(16,5))\n",
    "sns.barplot(x=tidy.Relatives.value_counts().index, y=tidy.Relatives.value_counts().values, palette=\"Accent\")\n",
    "plt.title('Relatives onboard distribution')\n",
    "plt.show()"
   ]
  },
  {
   "cell_type": "code",
   "execution_count": null,
   "id": "bcf46ead",
   "metadata": {},
   "outputs": [],
   "source": [
    "plt.figure(figsize=(15,5))\n",
    "sns.distplot(tidy.Fare, kde=False, bins=30, norm_hist=True)\n",
    "plt.title('Fare distribution')\n",
    "plt.show()"
   ]
  },
  {
   "cell_type": "code",
   "execution_count": null,
   "id": "2db1b8c7",
   "metadata": {},
   "outputs": [],
   "source": [
    "plt.figure(figsize=(15,5))\n",
    "sns.barplot(x=tidy.Embarked.value_counts().index, y=tidy.Embarked.value_counts().values, palette=\"Accent\")\n",
    "plt.title('Port of embarkation distribution')\n",
    "plt.show()"
   ]
  },
  {
   "cell_type": "markdown",
   "id": "b32b1582",
   "metadata": {},
   "source": [
    "First findings:\n",
    "- Most people died\n",
    "- Most people had 3rd (the cheapest) ticket class\n",
    "- About 57% of passengers were male\n",
    "- Most people traveled alone\n",
    "- More people embarked in Southampton\n",
    "\n",
    "Now let's have a look at how all this attributes affect chance of passengers survived."
   ]
  },
  {
   "cell_type": "code",
   "execution_count": null,
   "id": "1592f63e",
   "metadata": {},
   "outputs": [],
   "source": [
    "tidy_plot = tidy.groupby(['Survived', 'Pclass']).size().reset_index().pivot(columns='Survived', index='Pclass', values=0)\n",
    "tidy_plot.plot(kind='bar', stacked=True, figsize=(15,6))\n",
    "plt.title('Age vs Survival')\n",
    "plt.show()"
   ]
  },
  {
   "cell_type": "markdown",
   "id": "0ad6e25d",
   "metadata": {},
   "source": [
    "There's quite strong correlation between ticket class and survivability. **People with tickets of 1st and 2nd class more likely to survive** "
   ]
  },
  {
   "cell_type": "code",
   "execution_count": null,
   "id": "9d7378ff",
   "metadata": {},
   "outputs": [],
   "source": [
    "tidy_plot = tidy.groupby(['Survived', 'Sex']).size().reset_index().pivot(columns='Survived', index='Sex', values=0)\n",
    "tidy_plot.plot(kind='bar', stacked=True, figsize=(15,6))\n",
    "plt.title('Sex vs Survival')\n",
    "plt.show()"
   ]
  },
  {
   "cell_type": "markdown",
   "id": "0d27ab3d",
   "metadata": {},
   "source": [
    "**Women in general have a very high chance of survival compared to men.**"
   ]
  },
  {
   "cell_type": "code",
   "execution_count": null,
   "id": "d2cff009",
   "metadata": {},
   "outputs": [],
   "source": [
    "bins=[0,21,41,61,81,100]\n",
    "labels = ['0-20','21-40','41-60','61-80','81-100']\n",
    "tidy['AgeGroup'] = pd.cut(tidy.Age, bins=bins, labels=labels, right=False)\n",
    "\n",
    "tidy_plot = tidy.groupby(['Survived', 'AgeGroup']).size().reset_index().pivot(columns='Survived', index='AgeGroup', values=0)\n",
    "tidy_plot.plot(kind='bar', stacked=True, figsize=(15,6))\n",
    "plt.title('Age vs survival')\n",
    "plt.show()"
   ]
  },
  {
   "cell_type": "markdown",
   "id": "4fe01fb1",
   "metadata": {},
   "source": [
    "We grouped ages into a few bins. As plot shows, **there is no strong correlation between age and chance to survive in general** except for 61-80 group, but we can explain this by the fact that older people tend to travel with tickets of higher class.\n",
    "\n",
    "Let's look how ticket class, gender and age of its owner affect chances to survive."
   ]
  },
  {
   "cell_type": "code",
   "execution_count": null,
   "id": "79bc19ea",
   "metadata": {},
   "outputs": [],
   "source": [
    "sns.catplot(x='AgeGroup', col='Sex', row='Pclass', hue='Survived', data=tidy, kind='count')"
   ]
  },
  {
   "cell_type": "markdown",
   "id": "99042ced",
   "metadata": {},
   "source": [
    "**Older female and male people in 1st class are more likely to survive**. Male people in 3rd class have the lowest chance to survive**"
   ]
  },
  {
   "cell_type": "markdown",
   "id": "3f32fc89",
   "metadata": {},
   "source": [
    "Now let's look if number of relatives on board affect changes to survive."
   ]
  },
  {
   "cell_type": "code",
   "execution_count": null,
   "id": "1d877442",
   "metadata": {},
   "outputs": [],
   "source": [
    "tidy_plot = tidy.groupby(['Survived', 'Relatives']).size().reset_index().pivot(columns=['Survived'], index='Relatives', values=0)\n",
    "tidy_plot.plot(kind='bar', figsize=(15,6))\n",
    "plt.title('Number of relatives vs Survival')\n",
    "plt.show()"
   ]
  },
  {
   "cell_type": "markdown",
   "id": "bc4f8ca0",
   "metadata": {},
   "source": [
    "The plot above shows that people without any relatives and big families are less likely to survive. Let's add Sex of a person to the plot."
   ]
  },
  {
   "cell_type": "code",
   "execution_count": null,
   "id": "7fbd8141",
   "metadata": {},
   "outputs": [],
   "source": [
    "sns.catplot(x='Relatives', col='Sex', hue='Survived', data=tidy, kind='count')"
   ]
  },
  {
   "cell_type": "markdown",
   "id": "0bf78e91",
   "metadata": {},
   "source": [
    "The absence or small number of relatives provides a higher chance of survival for women. Now find out if ticket class has affect."
   ]
  },
  {
   "cell_type": "code",
   "execution_count": null,
   "id": "f4254589",
   "metadata": {},
   "outputs": [],
   "source": [
    "sns.catplot(x='Relatives', col='Sex', row='Pclass', hue='Survived', data=tidy, kind='count')"
   ]
  },
  {
   "cell_type": "markdown",
   "id": "7118c97a",
   "metadata": {},
   "source": [
    "**Women in 3rd class with high number of relatives are less likely to survive.**"
   ]
  },
  {
   "cell_type": "code",
   "execution_count": null,
   "id": "ebf962ce",
   "metadata": {},
   "outputs": [],
   "source": [
    "sns.catplot(x='Embarked', col='Sex', row='Pclass', hue='Survived', data=tidy, kind='count')"
   ]
  },
  {
   "cell_type": "markdown",
   "id": "5dae50c2",
   "metadata": {},
   "source": [
    "People who embarked in Cherbourg and Queenstown are more likely to survive."
   ]
  },
  {
   "cell_type": "code",
   "execution_count": null,
   "id": "3df27286",
   "metadata": {},
   "outputs": [],
   "source": [
    "sns.catplot(x='Sex', col='Pclass', hue='Survived', data=tidy, kind='count')"
   ]
  },
  {
   "cell_type": "markdown",
   "id": "df35d33f",
   "metadata": {},
   "source": [
    "# Summary"
   ]
  },
  {
   "cell_type": "markdown",
   "id": "46908e48",
   "metadata": {},
   "source": [
    "We processed the data: filled in the gaps, did some \"sanity checks\", got rid off outliers in Fare column, and added the AgeGroup and Relatives attributes, which simplified the analysis.\n",
    "\n",
    "We identified a few patterns in the data:\n",
    "- People with tickets of 1st and 2nd class more likely to survive, male in 3rd class have the least chance to survive\n",
    "- Women in general have a very high chance of survival compared to men\n",
    "- There is no strong correlation between age and chance to survive in general, but older people in 1st class are more likely to survive\n",
    "- The absence or small number of relatives provides a higher chance of survival for women\n",
    "- Women in 3rd class with high number of relatives are less likely to survive\n",
    "- People who embarked in Cherbourg and Queenstown throughout all ticket classes and genders are more likely to survive."
   ]
  }
 ],
 "metadata": {
  "kernelspec": {
   "display_name": "Python 3 (ipykernel)",
   "language": "python",
   "name": "python3"
  },
  "language_info": {
   "codemirror_mode": {
    "name": "ipython",
    "version": 3
   },
   "file_extension": ".py",
   "mimetype": "text/x-python",
   "name": "python",
   "nbconvert_exporter": "python",
   "pygments_lexer": "ipython3",
   "version": "3.9.7"
  }
 },
 "nbformat": 4,
 "nbformat_minor": 5
}
